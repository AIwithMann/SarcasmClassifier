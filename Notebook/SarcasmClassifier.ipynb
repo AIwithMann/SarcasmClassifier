{
 "cells": [
  {
   "cell_type": "code",
   "execution_count": null,
   "id": "c1a69411",
   "metadata": {},
   "outputs": [],
   "source": [
    "import pandas as pd\n",
    "import torch\n",
    "import torch.nn as nn\n",
    "import torch.nn.functional as F\n",
    "from torch.utils.data import DataLoader, Dataset, random_split\n",
    "from sklearn.metrics import accuracy_score"
   ]
  },
  {
   "cell_type": "code",
   "execution_count": 3,
   "id": "ecfc15e5",
   "metadata": {},
   "outputs": [],
   "source": [
    "df = pd.read_json('Sarcasm_Headlines_Dataset_v2.json', lines=True)\n",
    "df = df[['headline','is_sarcastic']]\n",
    "df['is_sarcastic'] = df['is_sarcastic'].astype(int)"
   ]
  },
  {
   "cell_type": "code",
   "execution_count": null,
   "id": "3e087d80",
   "metadata": {},
   "outputs": [],
   "source": [
    "import re\n",
    "from gensim.utils import simple_preprocess\n",
    "\n",
    "X = [simple_preprocess(doc) for doc in df['headline'].tolist()]"
   ]
  },
  {
   "cell_type": "code",
   "execution_count": 7,
   "id": "f061b08a",
   "metadata": {},
   "outputs": [
    {
     "name": "stderr",
     "output_type": "stream",
     "text": [
      "<>:11: SyntaxWarning: invalid escape sequence '\\g'\n",
      "<>:11: SyntaxWarning: invalid escape sequence '\\g'\n",
      "C:\\Users\\Mann Makwana\\AppData\\Local\\Temp\\ipykernel_21112\\1436255397.py:11: SyntaxWarning: invalid escape sequence '\\g'\n",
      "  glove = load_glove_model(\"glove.6B\\glove.6B.100d.txt\")\n"
     ]
    }
   ],
   "source": [
    "def load_glove_model(glove_file_path):\n",
    "    embeddings_index = {}\n",
    "    with open(glove_file_path, 'r', encoding='utf8') as f:\n",
    "        for line in f:\n",
    "            values = line.split()\n",
    "            word = values[0]\n",
    "            vector = [float(val) for val in values[1:]]\n",
    "            embeddings_index[word] = vector\n",
    "    return embeddings_index\n",
    "\n",
    "glove = load_glove_model(\"glove.6B\\glove.6B.100d.txt\")  "
   ]
  },
  {
   "cell_type": "code",
   "execution_count": 8,
   "id": "66b2e020",
   "metadata": {},
   "outputs": [],
   "source": [
    "import numpy as np\n",
    "\n",
    "def add_padding(X, max_length):\n",
    "    padded_X = []\n",
    "    for sentence in X:\n",
    "        if len(sentence) < max_length:\n",
    "            sentence += ['<PAD>'] * (max_length - len(sentence))\n",
    "        else:\n",
    "            sentence = sentence[:max_length]\n",
    "        padded_X.append(sentence)\n",
    "    return padded_X\n",
    "X = add_padding(X, 20)"
   ]
  },
  {
   "cell_type": "code",
   "execution_count": 9,
   "id": "12a9442e",
   "metadata": {},
   "outputs": [
    {
     "name": "stdout",
     "output_type": "stream",
     "text": [
      "(28619, 20)\n"
     ]
    }
   ],
   "source": [
    "X = np.array(X)\n",
    "print(X.shape)"
   ]
  },
  {
   "cell_type": "code",
   "execution_count": 10,
   "id": "b3ce1196",
   "metadata": {},
   "outputs": [],
   "source": [
    "def token_to_vectors(tokens: list[str], glove_model: dict) -> list[list[float]]:\n",
    "    vectors = []\n",
    "    for token in tokens:\n",
    "        if token in glove_model:\n",
    "            vectors.append(glove_model[token])\n",
    "        else:\n",
    "            vectors.append([0.0] * 100)\n",
    "    return vectors\n",
    "\n",
    "X = [token_to_vectors(doc, glove) for doc in X]  # Now convert text to GloVe vectors\n",
    "X = torch.tensor(X, dtype=torch.float32)  # Now convert to tensor\n",
    "y = torch.tensor(df['is_sarcastic'].values, dtype=torch.float32).view(-1, 1)\n"
   ]
  },
  {
   "cell_type": "code",
   "execution_count": 11,
   "id": "f69b5ffe",
   "metadata": {},
   "outputs": [],
   "source": [
    "from sklearn.model_selection import train_test_split\n",
    "\n",
    "X_train, X_test, y_train, y_test = train_test_split(X, y, test_size=0.2, random_state=42)"
   ]
  },
  {
   "cell_type": "code",
   "execution_count": 12,
   "id": "c6b2ad5f",
   "metadata": {},
   "outputs": [
    {
     "name": "stdout",
     "output_type": "stream",
     "text": [
      "(tensor([[-0.2377,  0.5939,  0.5870,  ..., -0.5830,  0.2004,  0.5031],\n",
      "        [-0.1573, -0.7550,  0.3684,  ..., -0.5414,  0.6782, -0.1725],\n",
      "        [-0.0543,  0.6230,  0.6135,  ..., -0.6142, -0.1594,  1.0991],\n",
      "        ...,\n",
      "        [ 0.0000,  0.0000,  0.0000,  ...,  0.0000,  0.0000,  0.0000],\n",
      "        [ 0.0000,  0.0000,  0.0000,  ...,  0.0000,  0.0000,  0.0000],\n",
      "        [ 0.0000,  0.0000,  0.0000,  ...,  0.0000,  0.0000,  0.0000]]), tensor([0.]))\n"
     ]
    }
   ],
   "source": [
    "class SarcasmDataset(Dataset):\n",
    "    def __init__(self, vectorized_data, labels):\n",
    "        self.inputs = vectorized_data\n",
    "        self.labels = labels\n",
    "\n",
    "    def __len__(self):\n",
    "        return len(self.inputs)\n",
    "\n",
    "    def __getitem__(self, idx):\n",
    "        return self.inputs[idx],self.labels[idx]\n",
    "train_loader = DataLoader(SarcasmDataset(X_train, y_train), batch_size=32, shuffle=True)\n",
    "valid_loader = DataLoader(SarcasmDataset(X_test, y_test), batch_size=32, shuffle=False)\n",
    "\n",
    "print(train_loader.dataset[0])"
   ]
  },
  {
   "cell_type": "code",
   "execution_count": 49,
   "id": "e28126d3",
   "metadata": {},
   "outputs": [],
   "source": [
    "class GloveLSTM(nn.Module):\n",
    "    def __init__(self, embedding_dim, hidden_dim):\n",
    "        super().__init__()\n",
    "        self.lstm = nn.LSTM(embedding_dim, hidden_dim, batch_first=True)\n",
    "        self.fc = nn.Linear(hidden_dim, 1)\n",
    "        self.sigmoid = nn.Sigmoid()\n",
    "\n",
    "    def forward(self, x):\n",
    "        x, _ = self.lstm(x)\n",
    "        x = x[:, -1, :]  # last timestep\n",
    "        x = self.fc(x)\n",
    "        return self.sigmoid(x)\n"
   ]
  },
  {
   "cell_type": "code",
   "execution_count": 52,
   "id": "acee4233",
   "metadata": {},
   "outputs": [
    {
     "name": "stdout",
     "output_type": "stream",
     "text": [
      "Epoch 1, Loss: 374.1336\n",
      "Epoch 2, Loss: 270.1108\n",
      "Epoch 3, Loss: 234.2584\n",
      "Epoch 4, Loss: 206.1987\n",
      "Epoch 5, Loss: 183.5362\n",
      "Epoch 6, Loss: 158.7999\n",
      "Epoch 7, Loss: 136.9773\n",
      "Epoch 8, Loss: 115.4746\n",
      "Epoch 9, Loss: 93.5934\n",
      "Epoch 10, Loss: 77.2950\n",
      "Epoch 11, Loss: 63.8382\n",
      "Epoch 12, Loss: 54.0355\n",
      "Epoch 13, Loss: 44.1434\n",
      "Epoch 14, Loss: 36.9996\n",
      "Epoch 15, Loss: 38.1665\n"
     ]
    }
   ],
   "source": [
    "loss_fn = nn.BCELoss()\n",
    "model = GloveLSTM(100, 128)\n",
    "optimizer = torch.optim.Adam(model.parameters(), lr=0.001,weight_decay=1e-5)\n",
    "\n",
    "device = torch.device(\"cuda\" if torch.cuda.is_available() else \"cpu\")\n",
    "model = model.to(device)\n",
    "\n",
    "for epoch in range(15):\n",
    "    model.train()\n",
    "    running_loss = 0.0\n",
    "    for batch_inputs, batch_labels in train_loader:\n",
    "        batch_inputs = batch_inputs.to(device)\n",
    "        batch_labels = batch_labels.to(device)\n",
    "\n",
    "        optimizer.zero_grad()\n",
    "        outputs = model(batch_inputs)\n",
    "        loss = loss_fn(outputs, batch_labels)\n",
    "        loss.backward()\n",
    "        optimizer.step()\n",
    "        \n",
    "        running_loss += loss.item()\n",
    "\n",
    "    print(f\"Epoch {epoch+1}, Loss: {running_loss:.4f}\")"
   ]
  },
  {
   "cell_type": "code",
   "execution_count": 53,
   "id": "91d86f43",
   "metadata": {},
   "outputs": [
    {
     "name": "stdout",
     "output_type": "stream",
     "text": [
      "Validation Accuracy: 0.8592\n",
      "Train Accuracy: 0.9920\n"
     ]
    }
   ],
   "source": [
    "model.eval()\n",
    "all_preds = []\n",
    "all_labels = []\n",
    "\n",
    "with torch.no_grad():\n",
    "    for inputs, labels in valid_loader:\n",
    "        inputs = inputs.to(device)\n",
    "        labels = labels.to(device)\n",
    "        outputs = model(inputs)\n",
    "        preds = (outputs > 0.5).float()\n",
    "\n",
    "        all_preds.extend(preds.cpu().numpy())\n",
    "        all_labels.extend(labels.cpu().numpy())\n",
    "\n",
    "acc = accuracy_score(all_labels, all_preds)\n",
    "print(f\"Validation Accuracy: {acc:.4f}\")\n",
    "\n",
    "all_preds = []\n",
    "all_labels = []\n",
    "with torch.no_grad():\n",
    "    for inputs, labels in train_loader:\n",
    "        inputs = inputs.to(device)\n",
    "        labels = labels.to(device)\n",
    "        outputs = model(inputs)\n",
    "        preds = (outputs > 0.5).float()\n",
    "\n",
    "        all_preds.extend(preds.cpu().numpy())\n",
    "        all_labels.extend(labels.cpu().numpy())\n",
    "acc = accuracy_score(all_labels, all_preds)\n",
    "print(f\"Train Accuracy: {acc:.4f}\")"
   ]
  },
  {
   "cell_type": "code",
   "execution_count": 55,
   "id": "36d09127",
   "metadata": {},
   "outputs": [],
   "source": [
    "torch.save(model.state_dict(), 'SarcasmClassifier.pth')"
   ]
  }
 ],
 "metadata": {
  "kernelspec": {
   "display_name": "Python 3",
   "language": "python",
   "name": "python3"
  },
  "language_info": {
   "codemirror_mode": {
    "name": "ipython",
    "version": 3
   },
   "file_extension": ".py",
   "mimetype": "text/x-python",
   "name": "python",
   "nbconvert_exporter": "python",
   "pygments_lexer": "ipython3",
   "version": "3.13.2"
  }
 },
 "nbformat": 4,
 "nbformat_minor": 5
}
